{
 "cells": [
  {
   "cell_type": "code",
   "execution_count": 1,
   "metadata": {
    "collapsed": true
   },
   "outputs": [],
   "source": [
    "# from https://github.com/.../bokeh/blob/master/examples/plotting/server/animated.py\n",
    "\n",
    "# The plot server must be running\n",
    "# Go to http://localhost:5006/bokeh to view this plot\n",
    "\n",
    "import time\n",
    "from numpy import pi, cos, sin, linspace, roll, zeros_like\n",
    "from bokeh.plotting import *\n",
    "from bokeh.models import GlyphRenderer"
   ]
  },
  {
   "cell_type": "code",
   "execution_count": 2,
   "metadata": {
    "collapsed": false
   },
   "outputs": [
    {
     "name": "stdout",
     "output_type": "stream",
     "text": [
      "Using saved session configuration for http://localhost:5006/\n",
      "To override, pass 'load_from_config=False' to Session\n"
     ]
    }
   ],
   "source": [
    "N = 50 + 1\n",
    "r_base = 8\n",
    "theta = linspace(0, 2*pi, N)\n",
    "r_x = linspace(0, 6*pi, N-1)\n",
    "rmin = r_base - cos(r_x) - 1\n",
    "rmax = r_base + sin(r_x) + 1\n",
    "\n",
    "colors = [\"FFFFCC\", \"#C7E9B4\", \"#7FCDBB\", \"#41B6C4\", \"#2C7FB8\", \"#253494\", \"#2C7FB8\", \"#41B6C4\", \"#7FCDBB\", \"#C7E9B4\"] * 5\n",
    "\n",
    "cx = cy = zeros_like(rmin)\n",
    "\n",
    "output_server(\"animated\")\n",
    "\n",
    "p = figure(x_range=[-11, 11], y_range=[-11, 11])\n",
    "\n",
    "p.annular_wedge(\n",
    "    cx, cy, rmin, rmax, theta[:-1], theta[1:],\n",
    "    inner_radius_units=\"data\",\n",
    "    outer_radius_units=\"data\",\n",
    "    fill_color = colors,\n",
    "    line_color=\"black\",\n",
    ")\n",
    "\n",
    "show(p)"
   ]
  },
  {
   "cell_type": "code",
   "execution_count": 3,
   "metadata": {
    "collapsed": false
   },
   "outputs": [
    {
     "ename": "KeyboardInterrupt",
     "evalue": "",
     "output_type": "error",
     "traceback": [
      "\u001b[1;31m---------------------------------------------------------------------------\u001b[0m",
      "\u001b[1;31mKeyboardInterrupt\u001b[0m                         Traceback (most recent call last)",
      "\u001b[1;32m<ipython-input-3-49946b69c2bd>\u001b[0m in \u001b[0;36m<module>\u001b[1;34m()\u001b[0m\n\u001b[0;32m     13\u001b[0m \u001b[1;33m\u001b[0m\u001b[0m\n\u001b[0;32m     14\u001b[0m     \u001b[0mcursession\u001b[0m\u001b[1;33m(\u001b[0m\u001b[1;33m)\u001b[0m\u001b[1;33m.\u001b[0m\u001b[0mstore_objects\u001b[0m\u001b[1;33m(\u001b[0m\u001b[0mds\u001b[0m\u001b[1;33m)\u001b[0m\u001b[1;33m\u001b[0m\u001b[0m\n\u001b[1;32m---> 15\u001b[1;33m     \u001b[0mtime\u001b[0m\u001b[1;33m.\u001b[0m\u001b[0msleep\u001b[0m\u001b[1;33m(\u001b[0m\u001b[1;36m.10\u001b[0m\u001b[1;33m)\u001b[0m\u001b[1;33m\u001b[0m\u001b[0m\n\u001b[0m",
      "\u001b[1;31mKeyboardInterrupt\u001b[0m: "
     ]
    }
   ],
   "source": [
    "renderer = p.select(dict(type=GlyphRenderer))\n",
    "ds = renderer[0].data_source\n",
    "\n",
    "while True:\n",
    "\n",
    "    rmin = ds.data[\"inner_radius\"]\n",
    "    rmin = roll(rmin, 1)\n",
    "    ds.data[\"inner_radius\"] = rmin\n",
    "\n",
    "    rmax = ds.data[\"outer_radius\"]\n",
    "    rmax = roll(rmax, -1)\n",
    "    ds.data[\"outer_radius\"] = rmax\n",
    "\n",
    "    cursession().store_objects(ds)\n",
    "    time.sleep(.10)"
   ]
  },
  {
   "cell_type": "markdown",
   "metadata": {},
   "source": [
    "1. Create figure fig = figure(...)\n",
    "2. Create data_source object for the figure data_source = p.select(dict(type=GlyphRenderer)) or figure(..., source=...)\n",
    "3. Update the .data attribute of the data_source object data_source.data[\"name\"] = ...\n",
    "4. Update the current session: cursession().store_objects(d_source)\n",
    "5. Repeat from 3 when needed. "
   ]
  },
  {
   "cell_type": "code",
   "execution_count": null,
   "metadata": {
    "collapsed": true
   },
   "outputs": [],
   "source": []
  }
 ],
 "metadata": {
  "kernelspec": {
   "display_name": "Python 2",
   "language": "python",
   "name": "python2"
  },
  "language_info": {
   "codemirror_mode": {
    "name": "ipython",
    "version": 2
   },
   "file_extension": ".py",
   "mimetype": "text/x-python",
   "name": "python",
   "nbconvert_exporter": "python",
   "pygments_lexer": "ipython2",
   "version": "2.7.6"
  }
 },
 "nbformat": 4,
 "nbformat_minor": 0
}
