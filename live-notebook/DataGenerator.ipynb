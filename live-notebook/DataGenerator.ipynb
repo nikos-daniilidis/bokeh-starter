{
 "cells": [
  {
   "cell_type": "code",
   "execution_count": 1,
   "metadata": {
    "collapsed": true
   },
   "outputs": [],
   "source": [
    "import os\n",
    "import glob\n",
    "import csv\n",
    "import time\n",
    "import datetime\n",
    "import numpy as np \n",
    "import json\n",
    "from collections import OrderedDict"
   ]
  },
  {
   "cell_type": "code",
   "execution_count": 2,
   "metadata": {
    "collapsed": true
   },
   "outputs": [],
   "source": [
    "###### Attention. Original function might change !!!!!!\n",
    "def report_path(start_time, end_time, include_directory=True):\n",
    "    \"\"\"\n",
    "    Return the path in which to save the report corresponding to a start_time, end_time combination.\n",
    "    Returned path includes the reports/ directory prefix!\n",
    "    :param start_time: string / start_time for the report\n",
    "    :param end_time: string / end time for the report\n",
    "    :return pathout: string / the path in which the report is located\n",
    "    \"\"\"\n",
    "    s = start_time.replace(\"-\", \"m\").replace(\":\", \"_\").replace(\".\", \"p\")\n",
    "    e = end_time.replace(\"-\", \"m\").replace(\":\", \"_\").replace(\".\", \"p\")\n",
    "    if include_directory:\n",
    "        pathout = os.path.join(\"reports\", \"from%sto%s.json\" % (s, e))\n",
    "    else:\n",
    "        pathout = \"from%sto%s.json\" % (s, e)\n",
    "    return pathout"
   ]
  },
  {
   "cell_type": "code",
   "execution_count": 3,
   "metadata": {
    "collapsed": false
   },
   "outputs": [],
   "source": [
    "def put_data(directory=\"reports\", max_num=10, sleep_time=5):\n",
    "    filecount = 0\n",
    "    while filecount < max_num:\n",
    "        start_time = datetime.datetime.now().strftime(\"%Y-%m-%dT%H:%M:%S.%f-07:00\")\n",
    "        percentile_data = np.random.rand(5)\n",
    "        percentile_data.sort()\n",
    "        percentile_data = percentile_data.tolist()\n",
    "        percentile_data.append(np.mean(percentile_data))\n",
    "        hist_bin_centers = np.arange(start=1, stop=51, step=1)\n",
    "        hist_counts = np.random.randint(low=1, high=42, size=50)\n",
    "        d = OrderedDict()\n",
    "        d[\"ReportRange\"] = OrderedDict()\n",
    "        d[\"ReportRange\"][\"StartTime\"] = start_time\n",
    "        d[\"Timing\"] = OrderedDict()\n",
    "        d[\"Timing\"][\"ModelEvaluation_StartTimeDispersion\"] = OrderedDict()\n",
    "        d[\"Timing\"][\"ModelEvaluation_StartTimeDispersion\"][\"percentiles\"] = percentile_data\n",
    "        d[\"Timing\"][\"ModelEvaluation_StartTimeDispersion\"][\"histogram\"] = OrderedDict()\n",
    "        d[\"Timing\"][\"ModelEvaluation_StartTimeDispersion\"][\"histogram\"][\"bin_centers\"] = hist_bin_centers.tolist()\n",
    "        d[\"Timing\"][\"ModelEvaluation_StartTimeDispersion\"][\"histogram\"][\"counts\"] = hist_counts.tolist()\n",
    "        time.sleep(sleep_time)\n",
    "        end_time = datetime.datetime.now().strftime(\"%Y-%m-%dT%H:%M:%S.%f-07:00\")\n",
    "        d[\"ReportRange\"][\"EndTime\"] = end_time\n",
    "        print(\"**** 9. Saving the report as json ****\")\n",
    "        pathout = report_path(start_time=start_time, end_time=end_time)\n",
    "        print(\"Output file name: %s\" % pathout)\n",
    "        with open(pathout, 'w') as fp:\n",
    "            json.dump(d, fp)\n",
    "        print(\"ok\")\n",
    "        filecount += 1"
   ]
  },
  {
   "cell_type": "code",
   "execution_count": 5,
   "metadata": {
    "collapsed": false
   },
   "outputs": [
    {
     "name": "stdout",
     "output_type": "stream",
     "text": [
      "**** 9. Saving the report as json ****\n",
      "Output file name: reports/from2015m06m12T16_43_54p778740m07_00to2015m06m12T16_43_59p779989m07_00.json\n",
      "ok\n",
      "**** 9. Saving the report as json ****\n",
      "Output file name: reports/from2015m06m12T16_43_59p780637m07_00to2015m06m12T16_44_04p785209m07_00.json\n",
      "ok\n",
      "**** 9. Saving the report as json ****\n",
      "Output file name: reports/from2015m06m12T16_44_04p786795m07_00to2015m06m12T16_44_09p789151m07_00.json\n",
      "ok\n",
      "**** 9. Saving the report as json ****\n",
      "Output file name: reports/from2015m06m12T16_44_09p790335m07_00to2015m06m12T16_44_14p792053m07_00.json\n",
      "ok\n",
      "**** 9. Saving the report as json ****\n",
      "Output file name: reports/from2015m06m12T16_44_14p793316m07_00to2015m06m12T16_44_19p794499m07_00.json\n",
      "ok\n",
      "**** 9. Saving the report as json ****\n",
      "Output file name: reports/from2015m06m12T16_44_19p796713m07_00to2015m06m12T16_44_24p801728m07_00.json\n",
      "ok\n",
      "**** 9. Saving the report as json ****\n",
      "Output file name: reports/from2015m06m12T16_44_24p803129m07_00to2015m06m12T16_44_29p803768m07_00.json\n",
      "ok\n",
      "**** 9. Saving the report as json ****\n",
      "Output file name: reports/from2015m06m12T16_44_29p805304m07_00to2015m06m12T16_44_34p809160m07_00.json\n",
      "ok\n",
      "**** 9. Saving the report as json ****\n",
      "Output file name: reports/from2015m06m12T16_44_34p810250m07_00to2015m06m12T16_44_39p814036m07_00.json\n",
      "ok\n",
      "**** 9. Saving the report as json ****\n",
      "Output file name: reports/from2015m06m12T16_44_39p815098m07_00to2015m06m12T16_44_44p819190m07_00.json\n",
      "ok\n",
      "**** 9. Saving the report as json ****\n",
      "Output file name: reports/from2015m06m12T16_44_44p820629m07_00to2015m06m12T16_44_49p824162m07_00.json\n",
      "ok\n"
     ]
    }
   ],
   "source": [
    "put_data(max_num=11)"
   ]
  },
  {
   "cell_type": "code",
   "execution_count": 3,
   "metadata": {
    "collapsed": true
   },
   "outputs": [],
   "source": [
    "t = datetime.datetime.now()"
   ]
  },
  {
   "cell_type": "code",
   "execution_count": 4,
   "metadata": {
    "collapsed": false
   },
   "outputs": [
    {
     "name": "stdout",
     "output_type": "stream",
     "text": [
      "2015-06-09T12:14:56.262333-07:00\n"
     ]
    }
   ],
   "source": [
    "print t.strftime(\"%Y-%m-%dT%H:%M:%S.%f-07:00\")"
   ]
  },
  {
   "cell_type": "code",
   "execution_count": null,
   "metadata": {
    "collapsed": true
   },
   "outputs": [],
   "source": []
  }
 ],
 "metadata": {
  "kernelspec": {
   "display_name": "Python 2",
   "language": "python",
   "name": "python2"
  },
  "language_info": {
   "codemirror_mode": {
    "name": "ipython",
    "version": 2
   },
   "file_extension": ".py",
   "mimetype": "text/x-python",
   "name": "python",
   "nbconvert_exporter": "python",
   "pygments_lexer": "ipython2",
   "version": "2.7.9"
  }
 },
 "nbformat": 4,
 "nbformat_minor": 0
}
